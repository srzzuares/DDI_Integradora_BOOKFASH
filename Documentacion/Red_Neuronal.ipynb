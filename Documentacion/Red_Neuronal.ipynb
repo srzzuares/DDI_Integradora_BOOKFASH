{
 "cells": [
  {
   "cell_type": "markdown",
   "id": "dcc6eb65",
   "metadata": {},
   "source": [
    "# Sistema de Recomendacion"
   ]
  },
  {
   "cell_type": "markdown",
   "id": "055e305d",
   "metadata": {},
   "source": [
    "## Ingenieria en Desarollo y Gestion de Software 9ºA"
   ]
  },
  {
   "cell_type": "markdown",
   "id": "c4b3126b",
   "metadata": {},
   "source": [
    "## Creado por:  Josseline Vargas y Crystian Suarez Empresa: JC Innovations\n"
   ]
  },
  {
   "cell_type": "code",
   "execution_count": 1,
   "id": "7f64723c",
   "metadata": {},
   "outputs": [],
   "source": [
    "#### Carga de Datos de dataset"
   ]
  },
  {
   "cell_type": "code",
   "execution_count": 2,
   "id": "e34c3e87",
   "metadata": {},
   "outputs": [],
   "source": [
    "import pandas as pd"
   ]
  },
  {
   "cell_type": "code",
   "execution_count": 11,
   "id": "16379b88",
   "metadata": {},
   "outputs": [],
   "source": [
    "df = pd.read_csv(\"C:\\\\Users\\\\Dell\\\\Desktop\\\\GitHub\\\\DDI_Integradora_BOOKFASH\\\\DBManager\\\\Recomendaciones.csv\", delimiter=\"\\t\", header=None)"
   ]
  },
  {
   "cell_type": "code",
   "execution_count": 12,
   "id": "a66a03c3",
   "metadata": {},
   "outputs": [
    {
     "data": {
      "text/plain": [
       "pandas.core.frame.DataFrame"
      ]
     },
     "execution_count": 12,
     "metadata": {},
     "output_type": "execute_result"
    }
   ],
   "source": [
    "type(df)"
   ]
  },
  {
   "cell_type": "code",
   "execution_count": 13,
   "id": "b319b44d",
   "metadata": {},
   "outputs": [
    {
     "data": {
      "text/html": [
       "<div>\n",
       "<style scoped>\n",
       "    .dataframe tbody tr th:only-of-type {\n",
       "        vertical-align: middle;\n",
       "    }\n",
       "\n",
       "    .dataframe tbody tr th {\n",
       "        vertical-align: top;\n",
       "    }\n",
       "\n",
       "    .dataframe thead th {\n",
       "        text-align: right;\n",
       "    }\n",
       "</style>\n",
       "<table border=\"1\" class=\"dataframe\">\n",
       "  <thead>\n",
       "    <tr style=\"text-align: right;\">\n",
       "      <th></th>\n",
       "      <th>0</th>\n",
       "    </tr>\n",
       "  </thead>\n",
       "  <tbody>\n",
       "    <tr>\n",
       "      <th>0</th>\n",
       "      <td>Juegos del hambre,,5</td>\n",
       "    </tr>\n",
       "    <tr>\n",
       "      <th>1</th>\n",
       "      <td>Invisible,,5</td>\n",
       "    </tr>\n",
       "    <tr>\n",
       "      <th>2</th>\n",
       "      <td>La ladrona de libros,Misterio y Suspenso,5</td>\n",
       "    </tr>\n",
       "    <tr>\n",
       "      <th>3</th>\n",
       "      <td>El Principito,No Ficción,5</td>\n",
       "    </tr>\n",
       "    <tr>\n",
       "      <th>4</th>\n",
       "      <td>Cumbres Borrascosas,Fantasía,5</td>\n",
       "    </tr>\n",
       "  </tbody>\n",
       "</table>\n",
       "</div>"
      ],
      "text/plain": [
       "                                            0\n",
       "0                        Juegos del hambre,,5\n",
       "1                                Invisible,,5\n",
       "2  La ladrona de libros,Misterio y Suspenso,5\n",
       "3                  El Principito,No Ficción,5\n",
       "4              Cumbres Borrascosas,Fantasía,5"
      ]
     },
     "execution_count": 13,
     "metadata": {},
     "output_type": "execute_result"
    }
   ],
   "source": [
    "df.head()"
   ]
  },
  {
   "cell_type": "code",
   "execution_count": 14,
   "id": "1747a435",
   "metadata": {},
   "outputs": [],
   "source": [
    "df.columns = [\"titulo\"]"
   ]
  },
  {
   "cell_type": "code",
   "execution_count": 15,
   "id": "ff47c19d",
   "metadata": {},
   "outputs": [
    {
     "data": {
      "text/html": [
       "<div>\n",
       "<style scoped>\n",
       "    .dataframe tbody tr th:only-of-type {\n",
       "        vertical-align: middle;\n",
       "    }\n",
       "\n",
       "    .dataframe tbody tr th {\n",
       "        vertical-align: top;\n",
       "    }\n",
       "\n",
       "    .dataframe thead th {\n",
       "        text-align: right;\n",
       "    }\n",
       "</style>\n",
       "<table border=\"1\" class=\"dataframe\">\n",
       "  <thead>\n",
       "    <tr style=\"text-align: right;\">\n",
       "      <th></th>\n",
       "      <th>titulo</th>\n",
       "    </tr>\n",
       "  </thead>\n",
       "  <tbody>\n",
       "    <tr>\n",
       "      <th>0</th>\n",
       "      <td>Juegos del hambre,,5</td>\n",
       "    </tr>\n",
       "    <tr>\n",
       "      <th>1</th>\n",
       "      <td>Invisible,,5</td>\n",
       "    </tr>\n",
       "    <tr>\n",
       "      <th>2</th>\n",
       "      <td>La ladrona de libros,Misterio y Suspenso,5</td>\n",
       "    </tr>\n",
       "    <tr>\n",
       "      <th>3</th>\n",
       "      <td>El Principito,No Ficción,5</td>\n",
       "    </tr>\n",
       "    <tr>\n",
       "      <th>4</th>\n",
       "      <td>Cumbres Borrascosas,Fantasía,5</td>\n",
       "    </tr>\n",
       "  </tbody>\n",
       "</table>\n",
       "</div>"
      ],
      "text/plain": [
       "                                       titulo\n",
       "0                        Juegos del hambre,,5\n",
       "1                                Invisible,,5\n",
       "2  La ladrona de libros,Misterio y Suspenso,5\n",
       "3                  El Principito,No Ficción,5\n",
       "4              Cumbres Borrascosas,Fantasía,5"
      ]
     },
     "execution_count": 15,
     "metadata": {},
     "output_type": "execute_result"
    }
   ],
   "source": [
    "df.head()"
   ]
  },
  {
   "cell_type": "code",
   "execution_count": 16,
   "id": "558ce9e3",
   "metadata": {},
   "outputs": [],
   "source": [
    "import matplotlib.pyplot as plt"
   ]
  },
  {
   "cell_type": "code",
   "execution_count": 17,
   "id": "2606d51f",
   "metadata": {},
   "outputs": [
    {
     "data": {
      "text/plain": [
       "(array([3., 5., 3., 3., 2., 3., 3., 3., 3., 3.]),\n",
       " array([ 0. ,  2.8,  5.6,  8.4, 11.2, 14. , 16.8, 19.6, 22.4, 25.2, 28. ]),\n",
       " <BarContainer object of 10 artists>)"
      ]
     },
     "execution_count": 17,
     "metadata": {},
     "output_type": "execute_result"
    },
    {
     "data": {
      "image/png": "[encoded data removed]",
      "text/plain": [
       "<Figure size 640x480 with 1 Axes>"
      ]
     },
     "metadata": {},
     "output_type": "display_data"
    }
   ],
   "source": [
    "plt.hist(df.titulo)"
   ]
  },
  {
   "cell_type": "markdown",
   "id": "46ea9756",
   "metadata": {},
   "source": [
    "## Nota. No se logro Crear una buben red neuronal por la siguiente causa, la razon es de que el archivo no se guardo como debe ser del frmato csv por separacion de comas o tabulador y no hemos llegado a comprenderlo. en otras, podemos seguir con el camino de la red neuronal pero habra errores."
   ]
  },
  {
   "cell_type": "code",
   "execution_count": 18,
   "id": "cf4f4c7f",
   "metadata": {},
   "outputs": [],
   "source": [
    "import numpy as np"
   ]
  },
  {
   "cell_type": "code",
   "execution_count": 21,
   "id": "df408f89",
   "metadata": {},
   "outputs": [],
   "source": [
    "n_libros = df.titulo.unique().shape[0]"
   ]
  },
  {
   "cell_type": "code",
   "execution_count": 22,
   "id": "ff92c925",
   "metadata": {},
   "outputs": [
    {
     "data": {
      "text/plain": [
       "29"
      ]
     },
     "execution_count": 22,
     "metadata": {},
     "output_type": "execute_result"
    }
   ],
   "source": [
    "n_libros"
   ]
  },
  {
   "cell_type": "code",
   "execution_count": 24,
   "id": "947b845e",
   "metadata": {},
   "outputs": [],
   "source": [
    "ratings = np.zeros((n_libros))"
   ]
  },
  {
   "cell_type": "code",
   "execution_count": null,
   "id": "de1772b9",
   "metadata": {},
   "outputs": [],
   "source": []
  }
 ],
 "metadata": {
  "kernelspec": {
   "display_name": "Python 3 (ipykernel)",
   "language": "python",
   "name": "python3"
  },
  "language_info": {
   "codemirror_mode": {
    "name": "ipython",
    "version": 3
   },
   "file_extension": ".py",
   "mimetype": "text/x-python",
   "name": "python",
   "nbconvert_exporter": "python",
   "pygments_lexer": "ipython3",
   "version": "3.10.9"
  }
 },
 "nbformat": 4,
 "nbformat_minor": 5
}
